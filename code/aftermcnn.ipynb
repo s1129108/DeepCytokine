{
 "cells": [
  {
   "cell_type": "code",
   "execution_count": 1,
   "id": "db31ed35-156f-4eff-b1ea-6e14cc43b112",
   "metadata": {},
   "outputs": [],
   "source": [
    "from tensorflow.keras.models import load_model, Model\n",
    "from tensorflow.keras import layers\n",
    "import tensorflow as tf\n",
    "import numpy as np\n",
    "\n",
    "from tensorflow.keras.utils import Sequence"
   ]
  },
  {
   "cell_type": "code",
   "execution_count": 2,
   "id": "f1a57397-1895-4c51-b9bf-eefb449bcbfa",
   "metadata": {},
   "outputs": [],
   "source": [
    "MAXSEQ = 500\n",
    "NUM_FILTER = 512\n",
    "WINDOW_SIZES = [2,8]\n",
    "DROPOUT = 0.7\n",
    "NUM_HIDDEN = 500\n",
    "BATCH_SIZE  = 256\n",
    "NUM_CLASSES = 2\n",
    "NUM_FEATURE = 1024\n",
    "EPOCHS      = 20\n",
    "DATA_TYPE = \"ProtTrans\""
   ]
  },
  {
   "cell_type": "code",
   "execution_count": 3,
   "id": "6f623b91-5868-4d3a-919c-31f3eee702fe",
   "metadata": {},
   "outputs": [
    {
     "name": "stdout",
     "output_type": "stream",
     "text": [
      "Current Working Directory: /mnt/D/jupyter/peter/github/DeepCytokine\n"
     ]
    }
   ],
   "source": [
    "import os\n",
    "\n",
    "# change to your root repository\n",
    "repo_root = \"/mnt/D/jupyter/peter/github/DeepCytokine\"\n",
    "os.chdir(repo_root)\n",
    "# Get the current working directory\n",
    "CURDIR = os.getcwd()\n",
    "\n",
    "print(\"Current Working Directory:\", CURDIR)"
   ]
  },
  {
   "cell_type": "code",
   "execution_count": 3,
   "id": "6d63d242-fa90-4377-8835-36024a2e2065",
   "metadata": {},
   "outputs": [],
   "source": [
    "class DeepScan(Model):\n",
    "\n",
    "\tdef __init__(self,\n",
    "\t             input_shape=(1, MAXSEQ, NUM_FEATURE),\n",
    "\t             window_sizes=[4,8,16],\n",
    "\t             num_filters=256,\n",
    "\t             num_hidden=1000):\n",
    "\t\tsuper(DeepScan, self).__init__()\n",
    "\t\t# Add input layer\n",
    "\t\tself.input_layer = tf.keras.Input(input_shape)\n",
    "\t\tself.window_sizes = window_sizes\n",
    "\t\tself.conv2d = []\n",
    "\t\tself.maxpool = []\n",
    "\t\tself.flatten = []\n",
    "\t\tfor window_size in self.window_sizes:\n",
    "\t\t\tself.conv2d.append(\n",
    "                layers.Conv2D(filters=num_filters,\n",
    "    \t\t\t              kernel_size=(1, window_size),\n",
    "\t\t\t                  activation=tf.nn.relu,\n",
    "\t\t\t                  padding='valid',\n",
    "\t\t\t                  bias_initializer=tf.constant_initializer(0.1),\n",
    "\t\t\t                  kernel_initializer=tf.keras.initializers.GlorotUniform()\n",
    "                             )\n",
    "                             )\n",
    "\t\t\tself.maxpool.append(\n",
    "    \t\t\tlayers.MaxPooling2D(pool_size=(1, MAXSEQ - window_size + 1),\n",
    "\t\t\t                        strides=(1, MAXSEQ),\n",
    "\t\t\t                        padding='valid')\n",
    "                               )\n",
    "\t\t\tself.flatten.append(layers.Flatten())\n",
    "\t\tself.dropout = layers.Dropout(rate=0.7)\n",
    "\t\tself.fc1 = layers.Dense(num_hidden,\n",
    "                        \t\tactivation=tf.nn.relu,\n",
    "\t\t                        bias_initializer=tf.constant_initializer(0.1),\n",
    "\t\t                        kernel_initializer=tf.keras.initializers.GlorotUniform()\n",
    "                               )\n",
    "\t\tself.fc2 = layers.Dense(NUM_CLASSES,\n",
    "\t\t                        activation='softmax',\n",
    "\t\t                        kernel_regularizer=tf.keras.regularizers.l2(1e-3)\n",
    "                               )\n",
    "\n",
    "\t\t# Get output layer with `call` method\n",
    "\t\tself.out = self.call(self.input_layer)\n",
    "\n",
    "\tdef call(self, x, training=False):\n",
    "\t\t_x = []\n",
    "\t\tfor i in range(len(self.window_sizes)):\n",
    "\t\t\tx_conv = self.conv2d[i](x)\n",
    "\t\t\tx_maxp = self.maxpool[i](x_conv)\n",
    "\t\t\tx_flat = self.flatten[i](x_maxp)\n",
    "\t\t\t_x.append(x_flat)\n",
    "\n",
    "\t\tx = tf.concat(_x, 1)\n",
    "\t\tx = self.dropout(x, training=training)\n",
    "\t\tx = self.fc1(x)\n",
    "\t\tx = self.fc2(x)  #Best Threshold\n",
    "\t\treturn x"
   ]
  },
  {
   "cell_type": "code",
   "execution_count": 4,
   "id": "80d9263e-18ca-4e05-9fc5-e733f654a52b",
   "metadata": {},
   "outputs": [
    {
     "name": "stdout",
     "output_type": "stream",
     "text": [
      "C:/jupyter/globe/deepcytokine/dataset/numpy/validation.npy\n",
      "Validation set for DeepCytokine model:  (3, 1, 500, 1024)\n"
     ]
    }
   ],
   "source": [
    "path_to_val = \"C:/jupyter/globe/deepcytokine/dataset/numpy/validation.npy\"\n",
    "print(path_to_val)\n",
    "print(\"Validation set for DeepCytokine model: \", np.load(path_to_val).shape)"
   ]
  },
  {
   "cell_type": "code",
   "execution_count": 5,
   "id": "0247dce6-2dcd-4965-923d-9419f0c06a94",
   "metadata": {},
   "outputs": [
    {
     "name": "stdout",
     "output_type": "stream",
     "text": [
      "(10, 2)\n",
      "weight loading complete!\n"
     ]
    }
   ],
   "source": [
    "# input_shape=(3, 1, 500, 1024)\n",
    "model = DeepScan(input_shape=(1, MAXSEQ, NUM_FEATURE), \n",
    "                 window_sizes=WINDOW_SIZES, \n",
    "                 num_filters=NUM_FILTER, \n",
    "                 num_hidden=NUM_HIDDEN)\n",
    "\n",
    "\n",
    "dummy_input = tf.random.normal([10, 1, 500, 1024])\n",
    "output = model(dummy_input)  # 确保模型结构与训练时一致\n",
    "print(output.shape)\n",
    "# 加载训练好的权重\n",
    "path_to_saved_model = \"C:/jupyter/globe/deepcytokine/saved_model/latest_DeepCytokine_model.h5\"\n",
    "model.load_weights(path_to_saved_model)\n",
    "print(\"weight loading complete!\")"
   ]
  },
  {
   "cell_type": "code",
   "execution_count": 6,
   "id": "6d16d218-d06f-4402-b10c-ba1dde900b77",
   "metadata": {},
   "outputs": [
    {
     "name": "stdout",
     "output_type": "stream",
     "text": [
      "Model: \"deep_scan\"\n",
      "_________________________________________________________________\n",
      " Layer (type)                Output Shape              Param #   \n",
      "=================================================================\n",
      " conv2d (Conv2D)             (None, 1, 499, 512)       1049088   \n",
      "                                                                 \n",
      " conv2d_1 (Conv2D)           (None, 1, 493, 512)       4194816   \n",
      "                                                                 \n",
      " max_pooling2d (MaxPooling2D  (None, 1, 1, 512)        0         \n",
      " )                                                               \n",
      "                                                                 \n",
      " max_pooling2d_1 (MaxPooling  (None, 1, 1, 512)        0         \n",
      " 2D)                                                             \n",
      "                                                                 \n",
      " flatten (Flatten)           (None, 512)               0         \n",
      "                                                                 \n",
      " flatten_1 (Flatten)         (None, 512)               0         \n",
      "                                                                 \n",
      " dropout (Dropout)           (None, 1024)              0         \n",
      "                                                                 \n",
      " dense (Dense)               (None, 500)               512500    \n",
      "                                                                 \n",
      " dense_1 (Dense)             (None, 2)                 1002      \n",
      "                                                                 \n",
      "=================================================================\n",
      "Total params: 5,757,406\n",
      "Trainable params: 5,757,406\n",
      "Non-trainable params: 0\n",
      "_________________________________________________________________\n"
     ]
    }
   ],
   "source": [
    "model.summary()"
   ]
  },
  {
   "cell_type": "code",
   "execution_count": 7,
   "id": "f4180aba-a59a-4582-8d4e-cd7384e5bd72",
   "metadata": {},
   "outputs": [
    {
     "name": "stdout",
     "output_type": "stream",
     "text": [
      "1/1 [==============================] - 0s 500ms/step\n"
     ]
    },
    {
     "data": {
      "text/plain": [
       "array([[2.6116491e-04, 9.9973887e-01],\n",
       "       [8.1399153e-04, 9.9918598e-01],\n",
       "       [6.9800639e-01, 3.0199364e-01]], dtype=float32)"
      ]
     },
     "execution_count": 7,
     "metadata": {},
     "output_type": "execute_result"
    }
   ],
   "source": [
    "val_set = np.load(path_to_val)\n",
    "model.predict(val_set)"
   ]
  },
  {
   "cell_type": "code",
   "execution_count": null,
   "id": "13f81716-d083-4485-b2d2-e0561ef76083",
   "metadata": {},
   "outputs": [],
   "source": []
  }
 ],
 "metadata": {
  "kernelspec": {
   "display_name": "TF",
   "language": "python",
   "name": "tf"
  },
  "language_info": {
   "codemirror_mode": {
    "name": "ipython",
    "version": 3
   },
   "file_extension": ".py",
   "mimetype": "text/x-python",
   "name": "python",
   "nbconvert_exporter": "python",
   "pygments_lexer": "ipython3",
   "version": "3.9.19"
  }
 },
 "nbformat": 4,
 "nbformat_minor": 5
}
